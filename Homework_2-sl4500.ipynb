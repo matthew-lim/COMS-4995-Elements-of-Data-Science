{
 "cells": [
  {
   "cell_type": "markdown",
   "metadata": {},
   "source": [
    "# Homework 2\n",
    "\n",
    "### Due: Thurs Nov. 12 @ 11:59pm ET"
   ]
  },
  {
   "cell_type": "markdown",
   "metadata": {},
   "source": [
    "In this homework we will be performing model evaluation, model selection and hyperparameter tuning in both a regression and classification setting.\n",
    "\n",
    "We will be working with a small set of home sales data from as we might see on a real-estate website.\n",
    "\n",
    "\n",
    "## Instructions\n",
    "\n",
    "Follow the comments below and fill in the blanks (\\_\\_\\_\\_) to complete.\n",
    "\n",
    "Please 'Restart and Run All' prior to submission.\n",
    "\n",
    "Out of 45 points total."
   ]
  },
  {
   "cell_type": "markdown",
   "metadata": {},
   "source": [
    "## Part 0: Environment Setup"
   ]
  },
  {
   "cell_type": "code",
   "execution_count": 1,
   "metadata": {},
   "outputs": [],
   "source": [
    "# 1. (2pts) Set up our environment with common libraries and plotting.\n",
    "#    Note: generally we would do all of our imports here but some imports\n",
    "#    have been left till later where they are used.\n",
    "\n",
    "# Import numpy as np, pandas as pd, matplotlib.pylab as plt and seaborn as sns\n",
    "import numpy as np\n",
    "import pandas as pd\n",
    "import matplotlib.pylab as plt\n",
    "import seaborn as sns\n",
    "\n",
    "# Set the seaborn style to 'darkgrid'\n",
    "sns.set_style(\"darkgrid\")\n",
    "\n",
    "# Execute the matplotlib magic function to display plots inline\n",
    "%matplotlib inline"
   ]
  },
  {
   "cell_type": "markdown",
   "metadata": {},
   "source": [
    "## Part 1: Regression"
   ]
  },
  {
   "cell_type": "markdown",
   "metadata": {},
   "source": [
    "In Part 1 we will try to predict a real value home sale price using several models."
   ]
  },
  {
   "cell_type": "code",
   "execution_count": 2,
   "metadata": {},
   "outputs": [
    {
     "name": "stdout",
     "output_type": "stream",
     "text": [
      "       SqFtTotLiving_x1000  SqFtLot_x1000  SqFtDriveway_x1000    Bathrooms  \\\n",
      "count          1000.000000    1000.000000              1000.0  1000.000000   \n",
      "mean              1.972377       7.456591                 1.0     2.096250   \n",
      "std               0.821994       3.727398                 0.0     0.786554   \n",
      "min               0.620000       0.746000                 1.0     0.750000   \n",
      "25%               1.340000       5.000000                 1.0     1.500000   \n",
      "50%               1.840000       7.181000                 1.0     2.000000   \n",
      "75%               2.460000       9.284750                 1.0     2.500000   \n",
      "max               4.700000      19.984000                 1.0     4.750000   \n",
      "\n",
      "          Bedrooms  \n",
      "count  1000.000000  \n",
      "mean      3.337000  \n",
      "std       0.907885  \n",
      "min       0.000000  \n",
      "25%       3.000000  \n",
      "50%       3.000000  \n",
      "75%       4.000000  \n",
      "max       9.000000  \n"
     ]
    },
    {
     "data": {
      "image/png": "[encoded data removed]",
      "text/plain": [
       "<Figure size 432x288 with 1 Axes>"
      ]
     },
     "metadata": {
      "needs_background": "light"
     },
     "output_type": "display_data"
    }
   ],
   "source": [
    "# 2. (4pts) Load and prepare our data.\n",
    "\n",
    "# Read in the csv file house_sales_subset.csv using default parameter settings\n",
    "df = pd.read_csv(\"../data/house_sales_subset.csv\")\n",
    "\n",
    "# Create a dataframe X which contains the columns:\n",
    "#    'SqFtTotLiving_x1000', 'SqFtLot_x1000', 'SqFtDriveway_x1000', 'Bathrooms', 'Bedrooms'\n",
    "X = df[['SqFtTotLiving_x1000', 'SqFtLot_x1000', 'SqFtDriveway_x1000', 'Bathrooms', 'Bedrooms']]\n",
    "\n",
    "# Create a series y_r which contains only the last column AdjSalePrice_x100000\n",
    "#    Note: the '_r' here is denote the different targets for regression and classification\n",
    "y_r = df.iloc[:,-1]\n",
    "\n",
    "# Confirm that all features of X are similar in scale by displaying the output of describe()\n",
    "print(X.describe())\n",
    "\n",
    "# Use sns.histplot() to plot y_r to get a sense of the distribution of the target\n",
    "sns.histplot(x=y_r);"
   ]
  },
  {
   "cell_type": "code",
   "execution_count": 3,
   "metadata": {},
   "outputs": [
    {
     "name": "stdout",
     "output_type": "stream",
     "text": [
      "proportion of data in test set: 0.20\n"
     ]
    }
   ],
   "source": [
    "# 3. (3pts) Create a held-aside set\n",
    "\n",
    "# Import train_test_split from sklearn.model_selection\n",
    "from sklearn.model_selection import train_test_split\n",
    "\n",
    "# Split X and y_r into 80% train and 20% test using train_test_split \n",
    "#   Use random_state=42 for grading consistency\n",
    "X_train_r, X_test_r, y_train_r, y_test_r = train_test_split(X, y_r, test_size = 0.20, random_state = 42)\n",
    "\n",
    "# Print out the the length of y_test_r divided by the length y_r to confirm our test set size.\n",
    "print('proportion of data in test set: {:0.2f}'.format(len(y_test_r)/len(y_r)))"
   ]
  },
  {
   "cell_type": "markdown",
   "metadata": {},
   "source": [
    "### Part 1.1 Baseline Regressor"
   ]
  },
  {
   "cell_type": "code",
   "execution_count": 4,
   "metadata": {},
   "outputs": [
    {
     "name": "stdout",
     "output_type": "stream",
     "text": [
      "dummy training set R2: 0.00\n"
     ]
    }
   ],
   "source": [
    "# 4. (3pts) Create a Dummy Regressor and confirm the expected performance on the training set.\n",
    "\n",
    "# Import the DummyRegressor model from sklearn \n",
    "from sklearn.dummy import DummyRegressor\n",
    "\n",
    "# Instantiate a dummy model using strategy=\"mean\" \n",
    "dummy_r = DummyRegressor(strategy = \"mean\")\n",
    "\n",
    "# Train the dummy model on the training set created above\n",
    "dummy_r.fit(X_train_r, y_train_r)\n",
    "\n",
    "# Calculate and print the training set R2 score of the dummy model.\n",
    "dummy_r_training_r2 = dummy_r.score(X_train_r, y_train_r)\n",
    "\n",
    "print('dummy training set R2: {:.2f}'.format(dummy_r_training_r2))"
   ]
  },
  {
   "cell_type": "markdown",
   "metadata": {},
   "source": [
    "### Part 1.2 Linear Regression and Cross-Validation"
   ]
  },
  {
   "cell_type": "code",
   "execution_count": 5,
   "metadata": {},
   "outputs": [
    {
     "name": "stdout",
     "output_type": "stream",
     "text": [
      "lr training set R2: 0.52\n"
     ]
    }
   ],
   "source": [
    "# 5. (4pts) Import the Linear Regression model and fit on the training set.\n",
    "\n",
    "# Import the LinearRegression model from sklearn\n",
    "from sklearn.linear_model import LinearRegression\n",
    "\n",
    "# Instantiate a LinearRegression model with default arguments and fit on the training set\n",
    "lr = LinearRegression().fit(X_train_r, y_train_r)\n",
    "\n",
    "# Calculate and print the training set R2 of the LinearRegression model\n",
    "lr_training_r2 = lr.score(X_train_r, y_train_r)\n",
    "\n",
    "print('lr training set R2: {:.2f}'.format(lr_training_r2))"
   ]
  },
  {
   "cell_type": "code",
   "execution_count": 6,
   "metadata": {},
   "outputs": [
    {
     "data": {
      "text/plain": [
       "array([0.56782853, 0.51348723, 0.52743576, 0.53201968, 0.41705308])"
      ]
     },
     "execution_count": 6,
     "metadata": {},
     "output_type": "execute_result"
    }
   ],
   "source": [
    "# 6. (2pts) Use 5-fold Cross Validation to measure variation of Liner Regression R2 performance.\n",
    "\n",
    "# Import cross_val_score from sklearn.\n",
    "from sklearn.model_selection import cross_val_score\n",
    "\n",
    "# Generate 5-fold cross-validation R2 scores for a LinearRegression model on the training set.\n",
    "scores = cross_val_score(LinearRegression(), X_train_r, y_train_r, cv = 5)\n",
    "\n",
    "# Print out the R2 found by cross_val_score\n",
    "scores"
   ]
  },
  {
   "cell_type": "code",
   "execution_count": 7,
   "metadata": {},
   "outputs": [
    {
     "name": "stdout",
     "output_type": "stream",
     "text": [
      "lr mean cv r2: 0.51 +- 0.10\n"
     ]
    }
   ],
   "source": [
    "# 7. (2pts) Calculate mean cv R2 score +- 2 standard deviations for the dummy model.\n",
    "\n",
    "# Calculate the mean cross validation score\n",
    "lr_r_cvr2_mean = scores.mean()\n",
    "\n",
    "# Calculate 2 standard deviations of the cross validation scores\n",
    "lr_r_cvr2_2std = 2* scores.std()\n",
    "\n",
    "# Print out the mean R2 and 2 standard variations for the LinearRegression model\n",
    "print('lr mean cv r2: {:.2f} +- {:.2f}'.format(lr_r_cvr2_mean,lr_r_cvr2_2std))"
   ]
  },
  {
   "cell_type": "markdown",
   "metadata": {},
   "source": [
    "### Part 1.3 Evaluate on Test Set"
   ]
  },
  {
   "cell_type": "code",
   "execution_count": 8,
   "metadata": {},
   "outputs": [
    {
     "name": "stdout",
     "output_type": "stream",
     "text": [
      "dummy test R2 : -0.00\n",
      "   lr test R2 :  0.51\n"
     ]
    }
   ],
   "source": [
    "# 8. (2pts) Evaluate performance of our trained DummyRegressor and LinearRegression model on the test set\n",
    "\n",
    "# Calculate R2 on the test set using the trained models\n",
    "dummy_r_test_r2 = dummy_r.score(X_test_r, y_test_r)\n",
    "\n",
    "lr_test_r2 = lr.score(X_test_r, y_test_r)\n",
    "\n",
    "print('dummy test R2 : {: .2f}'.format(dummy_r_test_r2))\n",
    "print('   lr test R2 : {: .2f}'.format(lr_test_r2))"
   ]
  },
  {
   "cell_type": "markdown",
   "metadata": {},
   "source": [
    "---"
   ]
  },
  {
   "cell_type": "markdown",
   "metadata": {},
   "source": [
    "## Part 2: Classification"
   ]
  },
  {
   "cell_type": "markdown",
   "metadata": {},
   "source": [
    "Here we build several models to classify low vs. high adjusted sales price and practice creating validation curves and performing grid search."
   ]
  },
  {
   "cell_type": "markdown",
   "metadata": {},
   "source": [
    "### Create Classification Target"
   ]
  },
  {
   "cell_type": "code",
   "execution_count": 9,
   "metadata": {},
   "outputs": [],
   "source": [
    "# We'll create a binary target for classification by thresholding at the mean of our AdjSalePrice\n",
    "\n",
    "# The classes are:\n",
    "#    Low AdjSalePrice   = 0\n",
    "#    High AdjSalePrice = 1\n",
    "\n",
    "y_c = (df.AdjSalePrice_x100000 > df.AdjSalePrice_x100000.mean()).astype(int)"
   ]
  },
  {
   "cell_type": "markdown",
   "metadata": {},
   "source": [
    "### Part 2.1 Create a Held-Aside Aet"
   ]
  },
  {
   "cell_type": "code",
   "execution_count": 10,
   "metadata": {},
   "outputs": [
    {
     "name": "stdout",
     "output_type": "stream",
     "text": [
      "0.589\n"
     ]
    }
   ],
   "source": [
    "# 9. (3pts) Create a training and test/held-aside set\n",
    "\n",
    "# Split into 80% train and 20% test using train_test_split with random_state=42\n",
    "#    Use the new y_c target and the same X we used for regression\n",
    "#    Also, use y_c to stratify the data so that the class proportions are the same in train and test\n",
    "#    Save the result into the variables X_train_c, X_test_c, y_train_c, y_test_c\n",
    "#    \n",
    "X_train_c, X_test_c, y_train_c, y_test_c = train_test_split(X, y_c, test_size = 0.2, random_state = 42)\n",
    "\n",
    "# Print out the proportion of Low values (label of 0) in y_c\n",
    "print(sum(y_c == 0) / len(y_c))\n",
    "\n",
    "# Check to make sure that train and test have the same balance of classes.\n",
    "# Assert that the absolute difference between train and test in proportion of Low values is smaller than .01\n",
    "# Note that there may be a slight difference between train and test due to the different number of samples.\n",
    "assert abs( sum(y_train_c == 0) / len(y_train_c) - sum(y_test_c == 0) / len(y_test_c) ) < 0.01"
   ]
  },
  {
   "cell_type": "markdown",
   "metadata": {},
   "source": [
    "### Part 2.2 Measure baseline performance"
   ]
  },
  {
   "cell_type": "code",
   "execution_count": 11,
   "metadata": {},
   "outputs": [
    {
     "name": "stdout",
     "output_type": "stream",
     "text": [
      "dummy training set accuracy: 0.590\n"
     ]
    }
   ],
   "source": [
    "# 10. (2pts)  Create a Dummy Classifier and confirm the expected performance on the training set.\n",
    "\n",
    "# Import the DummyClassifier class\n",
    "from sklearn.dummy import DummyClassifier\n",
    "\n",
    "# Instantiate and fit a DummyClassifier on the training set\n",
    "#   Set the strategy argument to \"most_frequent\"\n",
    "dummy_c = DummyClassifier(strategy = 'most_frequent').fit(X_train_c, y_train_c)\n",
    "\n",
    "# Print the trained DummyClassifier accuracy on the training set.\n",
    "# It should match the value we saw above.\n",
    "print('dummy training set accuracy: {:.3f}'.format(dummy_c.score(X_train_c, y_train_c)))"
   ]
  },
  {
   "cell_type": "code",
   "execution_count": 12,
   "metadata": {},
   "outputs": [
    {
     "data": {
      "text/plain": [
       "472"
      ]
     },
     "execution_count": 12,
     "metadata": {},
     "output_type": "execute_result"
    }
   ],
   "source": [
    "sum(y_train_c == 0)"
   ]
  },
  {
   "cell_type": "code",
   "execution_count": 13,
   "metadata": {},
   "outputs": [
    {
     "data": {
      "text/plain": [
       "471.2"
      ]
     },
     "execution_count": 13,
     "metadata": {},
     "output_type": "execute_result"
    }
   ],
   "source": [
    "len(y_train_c) * .589"
   ]
  },
  {
   "cell_type": "markdown",
   "metadata": {},
   "source": [
    "### Part 2.3 RandomForest model"
   ]
  },
  {
   "cell_type": "code",
   "execution_count": 14,
   "metadata": {},
   "outputs": [
    {
     "name": "stdout",
     "output_type": "stream",
     "text": [
      "rfc mean cv accuracy: 0.811 +- 0.04\n"
     ]
    }
   ],
   "source": [
    "# 11. (4pts) Import, train and calculate 5-fold cv accuracy for a RandomForest model on the training set\n",
    "\n",
    "# Import the RandomForestClassifier model from sklearn\n",
    "from sklearn.ensemble import RandomForestClassifier\n",
    "\n",
    "# Get 5 fold cross-validation training set accuracy scores for \n",
    "#   a RandomForestClassifier with 100 trees and max_depth=None (the default settings)\n",
    "#   To speed up training also set n_jobs=-1 in the cross_val_score call (to use all available cores)\n",
    "rfc_cvscores = cross_val_score(RandomForestClassifier(max_depth = None),\n",
    "                               X_train_c,\n",
    "                               y_train_c,\n",
    "                               n_jobs = -1,\n",
    "                               cv = 5)\n",
    "\n",
    "# Calculate mean cv accuracy\n",
    "rfc_cvacc_mean = rfc_cvscores.mean()\n",
    "\n",
    "# Calculate 2 standard deviations for the cv scores\n",
    "rfc_cvacc_2std = 2*rfc_cvscores.std()\n",
    "\n",
    "print('rfc mean cv accuracy: {:.3f} +- {:.2f}'.format(rfc_cvacc_mean,rfc_cvacc_2std))"
   ]
  },
  {
   "cell_type": "markdown",
   "metadata": {},
   "source": [
    "### Part 2.4 RandomForests and Validation Curve"
   ]
  },
  {
   "cell_type": "code",
   "execution_count": 15,
   "metadata": {},
   "outputs": [
    {
     "name": "stdout",
     "output_type": "stream",
     "text": [
      "[0.82186198 0.87374248 0.98437928 0.99437382 0.99437382]\n",
      "[0.8012306  0.81996189 0.80376034 0.8149916  0.8025072 ]\n"
     ]
    }
   ],
   "source": [
    "# 12. (5pts) Generate a validation curve over different tree depths in a Random Forest\n",
    "\n",
    "# Import the validation_curve function from sklearn.model_selection\n",
    "from sklearn.model_selection import validation_curve\n",
    "\n",
    "# In the RandomForestClassifier model, the depth of trees is set via max_depth\n",
    "# Here we'll try the depths 3,5,10,20,30\n",
    "depths = [3,5,10,20,30]\n",
    "\n",
    "# Generate the train_scores and test_scores for max_depth at these different depths using validation_curve\n",
    "#   Use RandomForestClassifier with default arguments except n_jobs=-1\n",
    "#   Use our training set X_train_c, y_train_c\n",
    "#   Use 3-fold cross validation (reducing to 3 to speed things up)\n",
    "#   Use accuracy as the scoring metric\n",
    "train_scores,test_scores = validation_curve(RandomForestClassifier(),\n",
    "                                           X_train_c, y_train_c,\n",
    "                                           param_name = 'max_depth',\n",
    "                                           param_range = depths,\n",
    "                                           cv = 3,\n",
    "                                           scoring = 'accuracy')\n",
    "\n",
    "# train_scores and test_scores contain a matrix of values\n",
    "#   For each depth (rows) there are 3 scores (columns), one for each fold\n",
    "#   Take the mean across folds (columns) and store in mean_train_scores and mean_test_scores\n",
    "mean_train_scores = np.mean(train_scores, axis = 1)\n",
    "mean_test_scores = np.mean(test_scores, axis = 1)\n",
    "\n",
    "# There should be five numbers in each list, each value between 0 and 1\n",
    "print(mean_train_scores)\n",
    "print(mean_test_scores)"
   ]
  },
  {
   "cell_type": "code",
   "execution_count": 16,
   "metadata": {},
   "outputs": [
    {
     "data": {
      "image/png": "[encoded data removed]",
      "text/plain": [
       "<Figure size 432x288 with 1 Axes>"
      ]
     },
     "metadata": {
      "needs_background": "light"
     },
     "output_type": "display_data"
    }
   ],
   "source": [
    "# 13. (4pts) Plot the validation curve\n",
    "\n",
    "# Plot mean_train_scores and mean_test_scores on the same plot\n",
    "#    use either ax.plot() or plt.plot()\n",
    "#    use \"depths\" for the x values\n",
    "#    add a label to each line ('train' and 'test') \n",
    "#    add a legend\n",
    "#    label the x-axis as \"depth\" and the y-axis as \"mean accuracy\"\n",
    "# Note: use as many lines as necessary\n",
    "\n",
    "plt.plot(depths, mean_train_scores, 'o-', color = 'b', label = 'training score');\n",
    "plt.plot(depths, mean_test_scores, 'o-', color = 'r', label = 'validation score');\n",
    "plt.xlabel(\"depth\");\n",
    "plt.ylabel(\"mean accuracy\");\n",
    "plt.legend(loc='best');"
   ]
  },
  {
   "cell_type": "markdown",
   "metadata": {},
   "source": [
    "### Part 2.5 RandomForests and Grid Search"
   ]
  },
  {
   "cell_type": "code",
   "execution_count": 17,
   "metadata": {},
   "outputs": [
    {
     "name": "stdout",
     "output_type": "stream",
     "text": [
      "rf best hyperparams      : {'max_depth': 5, 'n_estimators': 200}\n",
      "rf best mean cv accuracy : 0.820\n"
     ]
    }
   ],
   "source": [
    "# 14. (4pts) Perform 5-fold cross validated grid search over the number of trees and tree depth.\n",
    "\n",
    "# Import GridSearchCV\n",
    "from sklearn.model_selection import GridSearchCV\n",
    "\n",
    "# Create the grid of parameters to test\n",
    "#   The parameter settings to try are 'n_estimators':[10,50,100,200], 'max_depth':[3,5,10,20,30]\n",
    "params = {\"n_estimators\": [10, 50, 100, 200],\n",
    "         \"max_depth\": [3, 5, 10, 20, 30]}\n",
    "\n",
    "# Instantiate and fit GridSearchCV on the classification training set\n",
    "#   using 3-folds (for speed), the RandomForestClassifier and default scoring (accuracy).\n",
    "#   Make sure refit=True (default) so the model is retrained on the entire training set.\n",
    "#   Set n_jobs=-1 to use all cores.\n",
    "gscv_rf = GridSearchCV(RandomForestClassifier(),\n",
    "                      param_grid = params, \n",
    "                      cv = 3,\n",
    "                      refit = True,\n",
    "                      n_jobs = -1,\n",
    "                      scoring = 'accuracy')\n",
    "\n",
    "gscv_rf.fit(X_train_c, y_train_c)\n",
    "\n",
    "# Print out the best the best hyperparameter setting found and the mean accuracy they produced (best_score_)\n",
    "print('rf best hyperparams      : {}'.format(gscv_rf.best_params_))\n",
    "print('rf best mean cv accuracy : {:.3f}'.format(gscv_rf.best_score_))\n",
    "\n",
    "# Note that you may get different answers on different runs due to \n",
    "#   the randomness within the Random Forest algorithms as well as\n",
    "#   the random cv splits used at each grid point\n",
    "\n",
    "# (to think about, don't need to answer)\n",
    "#  Does this match what we might have guessed our max_depth should be from the validation plot above?\n",
    "#  Why might it not?"
   ]
  },
  {
   "cell_type": "markdown",
   "metadata": {},
   "source": [
    "### Part 2.6 Evaluate on Test"
   ]
  },
  {
   "cell_type": "code",
   "execution_count": 18,
   "metadata": {},
   "outputs": [
    {
     "name": "stdout",
     "output_type": "stream",
     "text": [
      "test acc : 0.815\n"
     ]
    }
   ],
   "source": [
    "# 15. (1pts) Evaluate our trained RandomForest model on the test set\n",
    "\n",
    "# Calculate accuracy on the held aside test set using the trained random forest model in gscv_rf.\n",
    "#   Note that we don't need to retrain on the full X_train_c,y_train_c as we used refit=True\n",
    "test_acc = gscv_rf.score(X_test_c, y_test_c)\n",
    "\n",
    "print('test acc : {:.3f}'.format(test_acc))"
   ]
  }
 ],
 "metadata": {
  "kernelspec": {
   "display_name": "eods-f20",
   "language": "python",
   "name": "eods-f20"
  },
  "language_info": {
   "codemirror_mode": {
    "name": "ipython",
    "version": 3
   },
   "file_extension": ".py",
   "mimetype": "text/x-python",
   "name": "python",
   "nbconvert_exporter": "python",
   "pygments_lexer": "ipython3",
   "version": "3.8.5"
  }
 },
 "nbformat": 4,
 "nbformat_minor": 2
}
