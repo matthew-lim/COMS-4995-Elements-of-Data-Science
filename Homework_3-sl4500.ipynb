{
 "cells": [
  {
   "cell_type": "markdown",
   "metadata": {},
   "source": [
    "# Homework 3\n",
    "\n",
    "## Matthew Lim - sl4500\n",
    "\n",
    "### Due: Friday Dec 4th @ 11:59pm"
   ]
  },
  {
   "cell_type": "markdown",
   "metadata": {},
   "source": [
    "In this homework we will be performing \n",
    "\n",
    "- feature cleaning and engineering\n",
    "\n",
    "- dimensionality reduction\n",
    "\n",
    "## Instructions\n",
    "\n",
    "Follow the comments below and fill in the blanks (\\_\\_\\_\\_) to complete.\n",
    "\n",
    "Please 'Restart and Run All' prior to submission.\n",
    "\n",
    "Where not specified, please run functions with default argument settings.\n",
    "\n",
    "Out of 60 points total."
   ]
  },
  {
   "cell_type": "markdown",
   "metadata": {},
   "source": [
    "# Part 0: Environment Setup"
   ]
  },
  {
   "cell_type": "code",
   "execution_count": 1,
   "metadata": {},
   "outputs": [],
   "source": [
    "# 0. (1pt) Set up our environment with comman libraries and plotting.\n",
    "#    Note: generally we would do all of our imports here but some imports\n",
    "#    have been left till later where they are used.\n",
    "\n",
    "# Import numpy, pandas, matplotlib.pyplot and seaborn\n",
    "import numpy as np\n",
    "import pandas as pd\n",
    "import matplotlib.pyplot as plt\n",
    "import seaborn as sns\n",
    "\n",
    "# Execute the matplotlib magic function to display plots inline\n",
    "%matplotlib inline"
   ]
  },
  {
   "cell_type": "markdown",
   "metadata": {},
   "source": [
    "# Part 1: Data Cleaning and Feature Selection"
   ]
  },
  {
   "cell_type": "markdown",
   "metadata": {},
   "source": [
    "In this section we will be loading, cleaning and transforming a small set of data related to loan applications.\n",
    "\n",
    "There are two files, one containing loan application information and the other containing borrower information.\n",
    "\n",
    "You will need to load both files, join them and then transform this data, creating a new dataframe with features which could then be used for modeling.\n",
    "\n",
    "Each step is followed by a print or plot of some kind to help us catch errors as they happen instead of later in the pipeline."
   ]
  },
  {
   "cell_type": "markdown",
   "metadata": {},
   "source": [
    "### Data Preparation and Exploration"
   ]
  },
  {
   "cell_type": "code",
   "execution_count": 2,
   "metadata": {},
   "outputs": [
    {
     "name": "stdout",
     "output_type": "stream",
     "text": [
      "<class 'pandas.core.frame.DataFrame'>\n",
      "Int64Index: 663 entries, 2 to 750\n",
      "Data columns (total 4 columns):\n",
      " #   Column                    Non-Null Count  Dtype \n",
      "---  ------                    --------------  ----- \n",
      " 0   WasTheLoanApproved        663 non-null    object\n",
      " 1   LoanReason                663 non-null    object\n",
      " 2   LoanPayoffPeriodInMonths  663 non-null    int64 \n",
      " 3   RequestedAmount           663 non-null    int64 \n",
      "dtypes: int64(2), object(2)\n",
      "memory usage: 25.9+ KB\n"
     ]
    }
   ],
   "source": [
    "# 1. (2pts) Load Loan Application Data\n",
    "\n",
    "# Read in the first dataframe containing loan application information.\n",
    "# The path to the datafile is '../data/hw3_loan.csv'.\n",
    "# Use the appropriate pandas command to read a csv file.\n",
    "# 'CustomerID' is a unique id that should be set as the index using the index_col argument.\n",
    "# Store this dataframe as df_loan.\n",
    "df_loan = pd.read_csv('../data/hw3_loan.csv', index_col = 'CustomerID')\n",
    "\n",
    "# Print the .info() of df_loan and check the size (should be 633 rows, 4 columns)\n",
    "df_loan.info()"
   ]
  },
  {
   "cell_type": "code",
   "execution_count": 3,
   "metadata": {},
   "outputs": [
    {
     "name": "stdout",
     "output_type": "stream",
     "text": [
      "<class 'pandas.core.frame.DataFrame'>\n",
      "Int64Index: 663 entries, 2 to 750\n",
      "Data columns (total 2 columns):\n",
      " #   Column                  Non-Null Count  Dtype  \n",
      "---  ------                  --------------  -----  \n",
      " 0   Age                     585 non-null    float64\n",
      " 1   YearsAtCurrentEmployer  542 non-null    object \n",
      "dtypes: float64(1), object(1)\n",
      "memory usage: 15.5+ KB\n"
     ]
    }
   ],
   "source": [
    "# 2. (2pts) Load Borrower Data\n",
    "\n",
    "# Read in the first dataframe containing borrower information.\n",
    "# The path to the datafile is '../data/hw3_borrower.csv'.\n",
    "# Use the appropriate pandas command to read a csv file.\n",
    "# 'CustomerID' is a unique id that should be set as the index using the index_col argument.\n",
    "# Store this dataframe as df_borrower.\n",
    "df_borrower = pd.read_csv('../data/hw3_borrower.csv', index_col = 'CustomerID')\n",
    "\n",
    "# Print the .info() of df_borrower (should be 633 rows, 2 columns)\n",
    "df_borrower.info()"
   ]
  },
  {
   "cell_type": "code",
   "execution_count": 4,
   "metadata": {},
   "outputs": [
    {
     "name": "stdout",
     "output_type": "stream",
     "text": [
      "<class 'pandas.core.frame.DataFrame'>\n",
      "Int64Index: 663 entries, 2 to 750\n",
      "Data columns (total 6 columns):\n",
      " #   Column                    Non-Null Count  Dtype  \n",
      "---  ------                    --------------  -----  \n",
      " 0   WasTheLoanApproved        663 non-null    object \n",
      " 1   LoanReason                663 non-null    object \n",
      " 2   LoanPayoffPeriodInMonths  663 non-null    int64  \n",
      " 3   RequestedAmount           663 non-null    int64  \n",
      " 4   Age                       585 non-null    float64\n",
      " 5   YearsAtCurrentEmployer    542 non-null    object \n",
      "dtypes: float64(1), int64(2), object(3)\n",
      "memory usage: 56.3+ KB\n"
     ]
    }
   ],
   "source": [
    "# 3. (2pts) Join Datasets\n",
    "\n",
    "# Join the df_loan and df_borrower and store as df_joined.\n",
    "# Perform an inner join.\n",
    "# Note that since both dataframes share an index, it is convenient to use the 'join()' function.\n",
    "df_joined = df_loan.join(df_borrower, how = 'inner')\n",
    "\n",
    "# Print df information summary using 'info'\n",
    "# There should still be 663 rows but now 6 columns\n",
    "df_joined.info()"
   ]
  },
  {
   "cell_type": "code",
   "execution_count": 5,
   "metadata": {},
   "outputs": [
    {
     "data": {
      "text/plain": [
       "goods     312\n",
       "auto      217\n",
       "other      90\n",
       "school     44\n",
       "Name: LoanReason, dtype: int64"
      ]
     },
     "execution_count": 5,
     "metadata": {},
     "output_type": "execute_result"
    }
   ],
   "source": [
    "# 4. (1pt) LoanReason\n",
    "\n",
    "# \"LoanReason\" is a categorical variable in df_joined.\n",
    "# Print the counts of each category using 'value_counts'\n",
    "df_joined['LoanReason'].value_counts()"
   ]
  },
  {
   "cell_type": "code",
   "execution_count": 6,
   "metadata": {},
   "outputs": [
    {
     "data": {
      "text/html": [
       "<div>\n",
       "<style scoped>\n",
       "    .dataframe tbody tr th:only-of-type {\n",
       "        vertical-align: middle;\n",
       "    }\n",
       "\n",
       "    .dataframe tbody tr th {\n",
       "        vertical-align: top;\n",
       "    }\n",
       "\n",
       "    .dataframe thead th {\n",
       "        text-align: right;\n",
       "    }\n",
       "</style>\n",
       "<table border=\"1\" class=\"dataframe\">\n",
       "  <thead>\n",
       "    <tr style=\"text-align: right;\">\n",
       "      <th></th>\n",
       "      <th>LoanReason_auto</th>\n",
       "      <th>LoanReason_goods</th>\n",
       "      <th>LoanReason_other</th>\n",
       "      <th>LoanReason_school</th>\n",
       "    </tr>\n",
       "    <tr>\n",
       "      <th>CustomerID</th>\n",
       "      <th></th>\n",
       "      <th></th>\n",
       "      <th></th>\n",
       "      <th></th>\n",
       "    </tr>\n",
       "  </thead>\n",
       "  <tbody>\n",
       "    <tr>\n",
       "      <th>2</th>\n",
       "      <td>0</td>\n",
       "      <td>1</td>\n",
       "      <td>0</td>\n",
       "      <td>0</td>\n",
       "    </tr>\n",
       "    <tr>\n",
       "      <th>3</th>\n",
       "      <td>1</td>\n",
       "      <td>0</td>\n",
       "      <td>0</td>\n",
       "      <td>0</td>\n",
       "    </tr>\n",
       "    <tr>\n",
       "      <th>4</th>\n",
       "      <td>1</td>\n",
       "      <td>0</td>\n",
       "      <td>0</td>\n",
       "      <td>0</td>\n",
       "    </tr>\n",
       "  </tbody>\n",
       "</table>\n",
       "</div>"
      ],
      "text/plain": [
       "            LoanReason_auto  LoanReason_goods  LoanReason_other  \\\n",
       "CustomerID                                                        \n",
       "2                         0                 1                 0   \n",
       "3                         1                 0                 0   \n",
       "4                         1                 0                 0   \n",
       "\n",
       "            LoanReason_school  \n",
       "CustomerID                     \n",
       "2                           0  \n",
       "3                           0  \n",
       "4                           0  "
      ]
     },
     "execution_count": 6,
     "metadata": {},
     "output_type": "execute_result"
    }
   ],
   "source": [
    "# 5. (2pts) Transform LoanReason Using One-Hot Encoding\n",
    "\n",
    "# Transform just the LoanReason column into one-hot encoding using 'pd.get_dummies()'.\n",
    "# Use prefix='LoanReason' to prefix the column names get_dummies().\n",
    "# Leave all other arguments at defaults.\n",
    "# Store the resulting dataframe as df_loanreason\n",
    "df_loanreason = pd.get_dummies(df_joined['LoanReason'], prefix= 'LoanReason')\n",
    "\n",
    "# Display the first 3 rows of df_loanreason to confirm the transformation.\n",
    "df_loanreason[:3]"
   ]
  },
  {
   "cell_type": "code",
   "execution_count": 7,
   "metadata": {},
   "outputs": [
    {
     "name": "stdout",
     "output_type": "stream",
     "text": [
      "<class 'pandas.core.frame.DataFrame'>\n",
      "Int64Index: 663 entries, 2 to 750\n",
      "Data columns (total 4 columns):\n",
      " #   Column             Non-Null Count  Dtype\n",
      "---  ------             --------------  -----\n",
      " 0   LoanReason_auto    663 non-null    uint8\n",
      " 1   LoanReason_goods   663 non-null    uint8\n",
      " 2   LoanReason_other   663 non-null    uint8\n",
      " 3   LoanReason_school  663 non-null    uint8\n",
      "dtypes: uint8(4)\n",
      "memory usage: 27.8 KB\n"
     ]
    }
   ],
   "source": [
    "# 6. (2pts) Create Transformed Feature Dataframe\n",
    "\n",
    "# We are performing these transformations in order to use this data for modelling.\n",
    "#\n",
    "# Instead of adding transformed features into our original dataframe (df_joined)\n",
    "#   it is useful to create a new dataframe containing only features used for modeling.\n",
    "\n",
    "# Create this new dataframe df_features by copying df_loanreason into df_features using .copy().\n",
    "df_features = df_loanreason.copy()\n",
    "\n",
    "# Print df_features information summary using 'info'\n",
    "# We should see the 4 columns created for LoanReason\n",
    "df_features.info()"
   ]
  },
  {
   "cell_type": "code",
   "execution_count": 8,
   "metadata": {},
   "outputs": [
    {
     "data": {
      "image/png": "[encoded data removed]",
      "text/plain": [
       "<Figure size 432x288 with 1 Axes>"
      ]
     },
     "metadata": {
      "needs_background": "light"
     },
     "output_type": "display_data"
    }
   ],
   "source": [
    "# 7. (1pt) LoanPayoffPeriodInMonths\n",
    "\n",
    "# Use seaborn histplot to plot df_joined.LoanPayoffPeriodInMonths using default settings.\n",
    "# Note that there appear to be several modes in the data corresponding to years.\n",
    "sns.histplot(x=df_joined.LoanPayoffPeriodInMonths);"
   ]
  },
  {
   "cell_type": "code",
   "execution_count": 9,
   "metadata": {},
   "outputs": [
    {
     "data": {
      "text/plain": [
       "[4, 12, 24, 60]"
      ]
     },
     "execution_count": 9,
     "metadata": {},
     "output_type": "execute_result"
    }
   ],
   "source": [
    "# 8. (1pt) Create Period Bins\n",
    "\n",
    "# We'll bin LoanPayoffPeriodInMonths into [less than 1 year, 1 up to 2 years, 2 or more years]\n",
    "# Create a list with four values\n",
    "#   minimum value in LoanPayoffPeriodInMonths\n",
    "#   12\n",
    "#   24\n",
    "#   maximum value of LoanPayoffPeriodInMonths\n",
    "# Store this list as 'period_bins'\n",
    "period_bins = [df_joined.LoanPayoffPeriodInMonths.min(), 12, 24, df_joined.LoanPayoffPeriodInMonths.max()]\n",
    "\n",
    "# Print period_bins.\n",
    "period_bins"
   ]
  },
  {
   "cell_type": "code",
   "execution_count": 10,
   "metadata": {},
   "outputs": [
    {
     "data": {
      "text/plain": [
       "0     241\n",
       "1     268\n",
       "2+    154\n",
       "Name: LoanPayoffPeriodInMonths, dtype: int64"
      ]
     },
     "execution_count": 10,
     "metadata": {},
     "output_type": "execute_result"
    }
   ],
   "source": [
    "# 9. (3pts) Bin LoanPayoffPeriodInMonths\n",
    "\n",
    "# Use pd.cut() to bin LoanPayoffPeriodInMonths.\n",
    "# Use the period_bins list we created above for the bin edges.\n",
    "# Set include_lowest to True to include the minimum value in the first bin.\n",
    "# Set the bin labels as ['0','1','2+'].\n",
    "# Store as loanperiod_years\n",
    "loanperiod_years = pd.cut(df_joined.LoanPayoffPeriodInMonths,\n",
    "                          bins = period_bins, \n",
    "                          labels = ['0', '1', '2+'],\n",
    "                          include_lowest = True)\n",
    "\n",
    "# loanperiod_years is a Series.\n",
    "# Print the number of items in each bin of loanperiod_years using .value_counts().\n",
    "# Sort by the index labels (the bin labels) by calling .sort_index() on the result of .value_counts()\n",
    "loanperiod_years.value_counts().sort_index()"
   ]
  },
  {
   "cell_type": "code",
   "execution_count": 11,
   "metadata": {},
   "outputs": [
    {
     "data": {
      "text/html": [
       "<div>\n",
       "<style scoped>\n",
       "    .dataframe tbody tr th:only-of-type {\n",
       "        vertical-align: middle;\n",
       "    }\n",
       "\n",
       "    .dataframe tbody tr th {\n",
       "        vertical-align: top;\n",
       "    }\n",
       "\n",
       "    .dataframe thead th {\n",
       "        text-align: right;\n",
       "    }\n",
       "</style>\n",
       "<table border=\"1\" class=\"dataframe\">\n",
       "  <thead>\n",
       "    <tr style=\"text-align: right;\">\n",
       "      <th></th>\n",
       "      <th>LoanPeriodYears_0</th>\n",
       "      <th>LoanPeriodYears_1</th>\n",
       "      <th>LoanPeriodYears_2+</th>\n",
       "    </tr>\n",
       "    <tr>\n",
       "      <th>CustomerID</th>\n",
       "      <th></th>\n",
       "      <th></th>\n",
       "      <th></th>\n",
       "    </tr>\n",
       "  </thead>\n",
       "  <tbody>\n",
       "    <tr>\n",
       "      <th>2</th>\n",
       "      <td>1</td>\n",
       "      <td>0</td>\n",
       "      <td>0</td>\n",
       "    </tr>\n",
       "    <tr>\n",
       "      <th>3</th>\n",
       "      <td>1</td>\n",
       "      <td>0</td>\n",
       "      <td>0</td>\n",
       "    </tr>\n",
       "    <tr>\n",
       "      <th>4</th>\n",
       "      <td>1</td>\n",
       "      <td>0</td>\n",
       "      <td>0</td>\n",
       "    </tr>\n",
       "  </tbody>\n",
       "</table>\n",
       "</div>"
      ],
      "text/plain": [
       "            LoanPeriodYears_0  LoanPeriodYears_1  LoanPeriodYears_2+\n",
       "CustomerID                                                          \n",
       "2                           1                  0                   0\n",
       "3                           1                  0                   0\n",
       "4                           1                  0                   0"
      ]
     },
     "execution_count": 11,
     "metadata": {},
     "output_type": "execute_result"
    }
   ],
   "source": [
    "# 10. (2pts) Transform Period Year Bins using One-Hot Encoding\n",
    "\n",
    "# Use 'pd.get_dummies' to encode loanperiod_years.\n",
    "# Use prefix 'LoanPeriodYears'.\n",
    "# Store as df_loanperiod.\n",
    "df_loanperiod = pd.get_dummies(loanperiod_years, prefix= 'LoanPeriodYears')\n",
    "\n",
    "# Display the first 3 rows of df_loanperiod to confirm the transformation.\n",
    "df_loanperiod[:3]"
   ]
  },
  {
   "cell_type": "code",
   "execution_count": 12,
   "metadata": {},
   "outputs": [
    {
     "name": "stdout",
     "output_type": "stream",
     "text": [
      "<class 'pandas.core.frame.DataFrame'>\n",
      "Int64Index: 663 entries, 2 to 750\n",
      "Data columns (total 7 columns):\n",
      " #   Column              Non-Null Count  Dtype\n",
      "---  ------              --------------  -----\n",
      " 0   LoanReason_auto     663 non-null    uint8\n",
      " 1   LoanReason_goods    663 non-null    uint8\n",
      " 2   LoanReason_other    663 non-null    uint8\n",
      " 3   LoanReason_school   663 non-null    uint8\n",
      " 4   LoanPeriodYears_0   663 non-null    uint8\n",
      " 5   LoanPeriodYears_1   663 non-null    uint8\n",
      " 6   LoanPeriodYears_2+  663 non-null    uint8\n",
      "dtypes: uint8(7)\n",
      "memory usage: 29.7 KB\n"
     ]
    }
   ],
   "source": [
    "# 11. (2pts) Extend Transformed Features\n",
    "\n",
    "# Join the existing df_features dataframe with df_loanperiod.\n",
    "# Note that they share an index, so use .join() here.\n",
    "# Store the result back into df_features.\n",
    "df_features = df_features.join(df_loanperiod)\n",
    "\n",
    "# Print df_features information summary using 'info'.\n",
    "# Note that the new columns have been joined.\n",
    "df_features.info()"
   ]
  },
  {
   "cell_type": "code",
   "execution_count": 13,
   "metadata": {},
   "outputs": [
    {
     "data": {
      "image/png": "[encoded data removed]",
      "text/plain": [
       "<Figure size 432x288 with 1 Axes>"
      ]
     },
     "metadata": {
      "needs_background": "light"
     },
     "output_type": "display_data"
    }
   ],
   "source": [
    "# 12. (1pt) RequestedAmount\n",
    "\n",
    "# Use seaborn histplot to plot df_joined.RequestedAmount using default settings.\n",
    "# Note that this features is right skewed and has a very wide range.\n",
    "sns.histplot(x=df_joined.RequestedAmount);"
   ]
  },
  {
   "cell_type": "code",
   "execution_count": 14,
   "metadata": {},
   "outputs": [
    {
     "data": {
      "image/png": "[encoded data removed]",
      "text/plain": [
       "<Figure size 432x288 with 1 Axes>"
      ]
     },
     "metadata": {
      "needs_background": "light"
     },
     "output_type": "display_data"
    }
   ],
   "source": [
    "# 12. (2pts) Log Transform RequestedAmount\n",
    "\n",
    "# Using the .apply(), apply np.log to the RequestedAmount column.\n",
    "# Store the result as requestedamount_log\n",
    "requestedamount_log = df_joined.RequestedAmount.apply(np.log)\n",
    "\n",
    "# Use seaborn histplot to plot requestedamount_log using default settings.\n",
    "# Note that the shape is is closer to a normal distribution\n",
    "sns.histplot(x=requestedamount_log);"
   ]
  },
  {
   "cell_type": "code",
   "execution_count": 15,
   "metadata": {},
   "outputs": [
    {
     "name": "stdout",
     "output_type": "stream",
     "text": [
      "1.9290753007061544e-16 1.0\n"
     ]
    }
   ],
   "source": [
    "# 13. (3pts) Center and Scale log(RequestedAmount) Manually\n",
    "\n",
    "# Standardize requestedamount_log by \n",
    "#   subtracting the mean of the series and dividing by the standard deviation of the series.\n",
    "# Store the result into df_features as column 'RequestedAmount_log_scaled'\n",
    "df_features['RequestedAmount_log_scaled'] = (requestedamount_log - requestedamount_log.mean() )/ requestedamount_log.std()\n",
    "\n",
    "# Confirm that scaling has been applied properly by printing out \n",
    "# the mean and std. dev. of RequestedAmount_log_scaled\n",
    "print(df_features['RequestedAmount_log_scaled'].mean(), df_features['RequestedAmount_log_scaled'].std())"
   ]
  },
  {
   "cell_type": "code",
   "execution_count": 16,
   "metadata": {},
   "outputs": [
    {
     "data": {
      "text/plain": [
       "0    585\n",
       "1     78\n",
       "Name: Age_missing, dtype: int64"
      ]
     },
     "execution_count": 16,
     "metadata": {},
     "output_type": "execute_result"
    }
   ],
   "source": [
    "# 14. (2pts) Age\n",
    "\n",
    "# The df_joined.Age variable has missing values.\n",
    "# Before we fill the missing values, create a dummy column noting where data is missing.\n",
    "# We want to store this as an int instead of a boolean.\n",
    "# Use .isna().astype(int) on the Age column to both find nulls and convert boolean to int.\n",
    "# Store in df_features as 'Age_missing'.\n",
    "df_features['Age_missing'] = df_joined.Age.isna().astype(int)\n",
    "\n",
    "# Print the number of 0s and 1s in Age_missing using .value_counts().\n",
    "df_features['Age_missing'].value_counts()"
   ]
  },
  {
   "cell_type": "code",
   "execution_count": 17,
   "metadata": {},
   "outputs": [],
   "source": [
    "# 15. (2pts) Fill Age with Median\n",
    "\n",
    "# Age may be skewed so fill missing values using median instead of mean.\n",
    "# Use fillna() with A to fill the missing values in Age with the median of Age.\n",
    "# Store back into df_joined['Age_filled']\n",
    "df_joined['Age_filled'] = df_joined.Age.fillna(df_joined.Age.median())\n",
    "\n",
    "# Use assert and the sum of .isna() to check that there are no missing values in Age_filled\n",
    "assert df_joined.Age_filled.isna().sum() == 0"
   ]
  },
  {
   "cell_type": "code",
   "execution_count": 18,
   "metadata": {},
   "outputs": [
    {
     "name": "stdout",
     "output_type": "stream",
     "text": [
      "Age_scaled mean: 0.00\n",
      "Age_scaled std:  1.00\n"
     ]
    }
   ],
   "source": [
    "# 16. (3pts) Center and Scale Age Using StandardScaler\n",
    "\n",
    "# Import StandardScaler from sklearn\n",
    "from sklearn.preprocessing import StandardScaler\n",
    "\n",
    "# Using StandardScaler and fit_transform, standardize the Age_filled column.\n",
    "# Note that fit_transform expects a DataFrame not a Series.\n",
    "# Use dfjoined[['Age_filled']] to return a DataFrame.\n",
    "# Store the result in df_features as 'Age_scaled'\n",
    "# NOTE: while there are other transformations we might apply to Age (eg log) we'll skip them in this homework\n",
    "df_features['Age_scaled'] = StandardScaler().fit_transform(pd.DataFrame(df_joined.Age_filled))\n",
    "\n",
    "# Print out the mean and standard deviation of Age_scaled with a precision of 2\n",
    "print(f'Age_scaled mean: {df_features.Age_scaled.mean():0.2f}')\n",
    "print(f'Age_scaled std:  {df_features.Age_scaled.std():0.2f}')"
   ]
  },
  {
   "cell_type": "code",
   "execution_count": 19,
   "metadata": {},
   "outputs": [
    {
     "data": {
      "text/plain": [
       "4      183\n",
       "10+    135\n",
       "NaN    121\n",
       "7       98\n",
       "1       97\n",
       "0       29\n",
       "Name: YearsAtCurrentEmployer, dtype: int64"
      ]
     },
     "execution_count": 19,
     "metadata": {},
     "output_type": "execute_result"
    }
   ],
   "source": [
    "# 17. (1pt) YearsAtCurrentEmployer\n",
    "\n",
    "# There are missing values in df_joined.YearsAtCurrentEmployer as well.\n",
    "# NOTE: Normally we would want to capture the missing values using a dummy column first.\n",
    "#       We are skipping this step for this homework.\n",
    "# Since this is a categorical feature, we'll fill with the most common value (mode).\n",
    "# First, print the number of items in each category, including nan's\n",
    "#   using value_counts with dropna=False\n",
    "df_joined.YearsAtCurrentEmployer.value_counts(dropna=False)"
   ]
  },
  {
   "cell_type": "code",
   "execution_count": 20,
   "metadata": {},
   "outputs": [
    {
     "data": {
      "text/plain": [
       "'4'"
      ]
     },
     "execution_count": 20,
     "metadata": {},
     "output_type": "execute_result"
    }
   ],
   "source": [
    "# 18. (2pts) Get Mode of YearsAtCurrentEmployer\n",
    "\n",
    "# Pandas Series has a 'mode' function that returns another series containing the modes of the original series.\n",
    "# We just want the first value in that series.\n",
    "# Use .mode().values[0] to get the first value in the series returned by mode.\n",
    "# Store in years_mode\n",
    "years_mode = df_joined.YearsAtCurrentEmployer.mode().values[0]\n",
    "\n",
    "# Print the value found.\n",
    "years_mode"
   ]
  },
  {
   "cell_type": "code",
   "execution_count": 21,
   "metadata": {},
   "outputs": [
    {
     "data": {
      "text/plain": [
       "4      304\n",
       "10+    135\n",
       "7       98\n",
       "1       97\n",
       "0       29\n",
       "Name: YearsAtCurrentEmployer_filled, dtype: int64"
      ]
     },
     "execution_count": 21,
     "metadata": {},
     "output_type": "execute_result"
    }
   ],
   "source": [
    "# 19. (2pts) Fill Missing in YearsAtCurrentEmployer With Mode\n",
    "\n",
    "# Use fillna and years_mode to fill the missing values in the YearsAtCurrentEmployer column.\n",
    "# Store back into df_joined as YearsAtCurrentEmployer_filled\n",
    "df_joined['YearsAtCurrentEmployer_filled'] = df_joined.YearsAtCurrentEmployer.fillna(years_mode)\n",
    "\n",
    "# Print the value_counts of YearsAtCurrentEmployer_filled, again with dropna=False.\n",
    "# Note that there are no longer nan's.\n",
    "df_joined['YearsAtCurrentEmployer_filled'].value_counts(dropna=False)"
   ]
  },
  {
   "cell_type": "code",
   "execution_count": 22,
   "metadata": {},
   "outputs": [
    {
     "data": {
      "text/html": [
       "<div>\n",
       "<style scoped>\n",
       "    .dataframe tbody tr th:only-of-type {\n",
       "        vertical-align: middle;\n",
       "    }\n",
       "\n",
       "    .dataframe tbody tr th {\n",
       "        vertical-align: top;\n",
       "    }\n",
       "\n",
       "    .dataframe thead th {\n",
       "        text-align: right;\n",
       "    }\n",
       "</style>\n",
       "<table border=\"1\" class=\"dataframe\">\n",
       "  <thead>\n",
       "    <tr style=\"text-align: right;\">\n",
       "      <th></th>\n",
       "      <th>YearsAtCurrentEmployer_0</th>\n",
       "      <th>YearsAtCurrentEmployer_1</th>\n",
       "      <th>YearsAtCurrentEmployer_10+</th>\n",
       "      <th>YearsAtCurrentEmployer_4</th>\n",
       "      <th>YearsAtCurrentEmployer_7</th>\n",
       "    </tr>\n",
       "    <tr>\n",
       "      <th>CustomerID</th>\n",
       "      <th></th>\n",
       "      <th></th>\n",
       "      <th></th>\n",
       "      <th></th>\n",
       "      <th></th>\n",
       "    </tr>\n",
       "  </thead>\n",
       "  <tbody>\n",
       "    <tr>\n",
       "      <th>2</th>\n",
       "      <td>0</td>\n",
       "      <td>0</td>\n",
       "      <td>0</td>\n",
       "      <td>1</td>\n",
       "      <td>0</td>\n",
       "    </tr>\n",
       "    <tr>\n",
       "      <th>3</th>\n",
       "      <td>0</td>\n",
       "      <td>0</td>\n",
       "      <td>0</td>\n",
       "      <td>0</td>\n",
       "      <td>1</td>\n",
       "    </tr>\n",
       "    <tr>\n",
       "      <th>4</th>\n",
       "      <td>0</td>\n",
       "      <td>0</td>\n",
       "      <td>1</td>\n",
       "      <td>0</td>\n",
       "      <td>0</td>\n",
       "    </tr>\n",
       "  </tbody>\n",
       "</table>\n",
       "</div>"
      ],
      "text/plain": [
       "            YearsAtCurrentEmployer_0  YearsAtCurrentEmployer_1  \\\n",
       "CustomerID                                                       \n",
       "2                                  0                         0   \n",
       "3                                  0                         0   \n",
       "4                                  0                         0   \n",
       "\n",
       "            YearsAtCurrentEmployer_10+  YearsAtCurrentEmployer_4  \\\n",
       "CustomerID                                                         \n",
       "2                                    0                         1   \n",
       "3                                    0                         0   \n",
       "4                                    1                         0   \n",
       "\n",
       "            YearsAtCurrentEmployer_7  \n",
       "CustomerID                            \n",
       "2                                  0  \n",
       "3                                  1  \n",
       "4                                  0  "
      ]
     },
     "execution_count": 22,
     "metadata": {},
     "output_type": "execute_result"
    }
   ],
   "source": [
    "# 20. (2pts) One-Hot Encode YearsAtCurrentEmployer\n",
    "\n",
    "# Use 'pd.get_dummies' to encode YearsAtCurrentEmployer_filled.\n",
    "# Use prefix 'YearsAtCurrentEmployer'.\n",
    "# Store as df_employed.\n",
    "df_employed = pd.get_dummies(df_joined.YearsAtCurrentEmployer_filled, prefix= 'YearsAtCurrentEmployer')\n",
    "\n",
    "# Display the first 3 rows of df_employed to confirm the transformation.\n",
    "df_employed[:3]"
   ]
  },
  {
   "cell_type": "code",
   "execution_count": 23,
   "metadata": {},
   "outputs": [
    {
     "name": "stdout",
     "output_type": "stream",
     "text": [
      "<class 'pandas.core.frame.DataFrame'>\n",
      "Int64Index: 663 entries, 2 to 750\n",
      "Data columns (total 15 columns):\n",
      " #   Column                      Non-Null Count  Dtype  \n",
      "---  ------                      --------------  -----  \n",
      " 0   LoanReason_auto             663 non-null    uint8  \n",
      " 1   LoanReason_goods            663 non-null    uint8  \n",
      " 2   LoanReason_other            663 non-null    uint8  \n",
      " 3   LoanReason_school           663 non-null    uint8  \n",
      " 4   LoanPeriodYears_0           663 non-null    uint8  \n",
      " 5   LoanPeriodYears_1           663 non-null    uint8  \n",
      " 6   LoanPeriodYears_2+          663 non-null    uint8  \n",
      " 7   RequestedAmount_log_scaled  663 non-null    float64\n",
      " 8   Age_missing                 663 non-null    int64  \n",
      " 9   Age_scaled                  663 non-null    float64\n",
      " 10  YearsAtCurrentEmployer_0    663 non-null    uint8  \n",
      " 11  YearsAtCurrentEmployer_1    663 non-null    uint8  \n",
      " 12  YearsAtCurrentEmployer_10+  663 non-null    uint8  \n",
      " 13  YearsAtCurrentEmployer_4    663 non-null    uint8  \n",
      " 14  YearsAtCurrentEmployer_7    663 non-null    uint8  \n",
      "dtypes: float64(2), int64(1), uint8(12)\n",
      "memory usage: 48.5 KB\n"
     ]
    }
   ],
   "source": [
    "# 21. (2pts) Extend Transformed Features with YearsAtCurrentEmployer\n",
    "\n",
    "# Join the existing df_features dataframe with df_employed.\n",
    "# Store the result back into df_features.\n",
    "df_features = df_features.join(df_employed, how= 'inner')\n",
    "\n",
    "# Display df_features information summary using 'info'.\n",
    "# Note that the new columns have been joined, all datatypes are numeric and there are no missing values.\n",
    "df_features.info()"
   ]
  },
  {
   "cell_type": "code",
   "execution_count": 24,
   "metadata": {},
   "outputs": [
    {
     "data": {
      "text/plain": [
       "(596, 15)"
      ]
     },
     "execution_count": 24,
     "metadata": {},
     "output_type": "execute_result"
    }
   ],
   "source": [
    "# 22. (1pts) Split Data\n",
    "\n",
    "# The target we're interested in predicting is df_joined.WasTheLoanApproved.\n",
    "# This is a categorical variable taking the values Y for yes and N for no\n",
    "\n",
    "# Transform the target df_joined.WasTheLoanApproved\n",
    "#    into integers 0 for N and 1 for Y using a boolean mask and astype(int)\n",
    "# Store in y\n",
    "y = (df_joined.WasTheLoanApproved=='Y').astype(int)\n",
    "\n",
    "# Before we continue we should split up our data into a train and test set\n",
    "\n",
    "# import train_test_split from sklearn\n",
    "from sklearn.model_selection import train_test_split\n",
    "\n",
    "# Generate a training and test set from df_features and y\n",
    "#   with 10% of observations in test, stratify=y, and random_state=42\n",
    "# Store in X_train,X_test,y_train,y_test\n",
    "X_train,X_test,y_train,y_test = train_test_split(df_features, y, test_size= 0.10, stratify=y, random_state= 42)\n",
    "\n",
    "# Print the shape of X_train (should be 596 rows, 15 columns).\n",
    "X_train.shape"
   ]
  },
  {
   "cell_type": "markdown",
   "metadata": {},
   "source": [
    "# Part 2: Feature Selection"
   ]
  },
  {
   "cell_type": "code",
   "execution_count": 25,
   "metadata": {},
   "outputs": [
    {
     "data": {
      "text/html": [
       "<div>\n",
       "<style scoped>\n",
       "    .dataframe tbody tr th:only-of-type {\n",
       "        vertical-align: middle;\n",
       "    }\n",
       "\n",
       "    .dataframe tbody tr th {\n",
       "        vertical-align: top;\n",
       "    }\n",
       "\n",
       "    .dataframe thead th {\n",
       "        text-align: right;\n",
       "    }\n",
       "</style>\n",
       "<table border=\"1\" class=\"dataframe\">\n",
       "  <thead>\n",
       "    <tr style=\"text-align: right;\">\n",
       "      <th></th>\n",
       "      <th>Feature</th>\n",
       "      <th>Importance</th>\n",
       "    </tr>\n",
       "  </thead>\n",
       "  <tbody>\n",
       "    <tr>\n",
       "      <th>7</th>\n",
       "      <td>RequestedAmount_log_scaled</td>\n",
       "      <td>0.434160</td>\n",
       "    </tr>\n",
       "    <tr>\n",
       "      <th>9</th>\n",
       "      <td>Age_scaled</td>\n",
       "      <td>0.312763</td>\n",
       "    </tr>\n",
       "    <tr>\n",
       "      <th>11</th>\n",
       "      <td>YearsAtCurrentEmployer_1</td>\n",
       "      <td>0.037638</td>\n",
       "    </tr>\n",
       "    <tr>\n",
       "      <th>0</th>\n",
       "      <td>LoanReason_auto</td>\n",
       "      <td>0.029138</td>\n",
       "    </tr>\n",
       "    <tr>\n",
       "      <th>1</th>\n",
       "      <td>LoanReason_goods</td>\n",
       "      <td>0.025209</td>\n",
       "    </tr>\n",
       "    <tr>\n",
       "      <th>13</th>\n",
       "      <td>YearsAtCurrentEmployer_4</td>\n",
       "      <td>0.021183</td>\n",
       "    </tr>\n",
       "    <tr>\n",
       "      <th>10</th>\n",
       "      <td>YearsAtCurrentEmployer_0</td>\n",
       "      <td>0.018390</td>\n",
       "    </tr>\n",
       "    <tr>\n",
       "      <th>2</th>\n",
       "      <td>LoanReason_other</td>\n",
       "      <td>0.017736</td>\n",
       "    </tr>\n",
       "    <tr>\n",
       "      <th>8</th>\n",
       "      <td>Age_missing</td>\n",
       "      <td>0.017133</td>\n",
       "    </tr>\n",
       "    <tr>\n",
       "      <th>4</th>\n",
       "      <td>LoanPeriodYears_0</td>\n",
       "      <td>0.016427</td>\n",
       "    </tr>\n",
       "    <tr>\n",
       "      <th>12</th>\n",
       "      <td>YearsAtCurrentEmployer_10+</td>\n",
       "      <td>0.015850</td>\n",
       "    </tr>\n",
       "    <tr>\n",
       "      <th>3</th>\n",
       "      <td>LoanReason_school</td>\n",
       "      <td>0.015166</td>\n",
       "    </tr>\n",
       "    <tr>\n",
       "      <th>14</th>\n",
       "      <td>YearsAtCurrentEmployer_7</td>\n",
       "      <td>0.013477</td>\n",
       "    </tr>\n",
       "    <tr>\n",
       "      <th>6</th>\n",
       "      <td>LoanPeriodYears_2+</td>\n",
       "      <td>0.013370</td>\n",
       "    </tr>\n",
       "    <tr>\n",
       "      <th>5</th>\n",
       "      <td>LoanPeriodYears_1</td>\n",
       "      <td>0.012359</td>\n",
       "    </tr>\n",
       "  </tbody>\n",
       "</table>\n",
       "</div>"
      ],
      "text/plain": [
       "                       Feature  Importance\n",
       "7   RequestedAmount_log_scaled    0.434160\n",
       "9                   Age_scaled    0.312763\n",
       "11    YearsAtCurrentEmployer_1    0.037638\n",
       "0              LoanReason_auto    0.029138\n",
       "1             LoanReason_goods    0.025209\n",
       "13    YearsAtCurrentEmployer_4    0.021183\n",
       "10    YearsAtCurrentEmployer_0    0.018390\n",
       "2             LoanReason_other    0.017736\n",
       "8                  Age_missing    0.017133\n",
       "4            LoanPeriodYears_0    0.016427\n",
       "12  YearsAtCurrentEmployer_10+    0.015850\n",
       "3            LoanReason_school    0.015166\n",
       "14    YearsAtCurrentEmployer_7    0.013477\n",
       "6           LoanPeriodYears_2+    0.013370\n",
       "5            LoanPeriodYears_1    0.012359"
      ]
     },
     "execution_count": 25,
     "metadata": {},
     "output_type": "execute_result"
    }
   ],
   "source": [
    "#23. (6pts) Use a Random Forest Classifier to rank the features in df_features by their importance\n",
    "\n",
    "# Import RandomForestClassifier from sklearn\n",
    "from sklearn.ensemble import RandomForestClassifier\n",
    "\n",
    "# Intantiate a RandomForestClassifier object\n",
    "# Use n_estimators=10, random_state=123, n_jobs=-1 and all other arguments as their default.\n",
    "# Store as 'rfc'.\n",
    "rfc = RandomForestClassifier(n_estimators= 10,\n",
    "                            random_state= 123,\n",
    "                            n_jobs= -1)\n",
    "\n",
    "# Fit rfc on the training set\n",
    "rfc.fit(X_train, y_train)\n",
    "\n",
    "# The feature_importances_ stored in rfc are in the order of the columns of df_features\n",
    "# Store the column names from df_joined as feature_names\n",
    "feature_names = df_features.columns.values\n",
    "\n",
    "# To easily display the column names and importances together\n",
    "#    create a new dataframe called df_feature_importance\n",
    "df_feature_importance = pd.DataFrame()\n",
    "\n",
    "# Store feature_names in df_feature_importance with column name \"Feature\"\n",
    "df_feature_importance['Feature'] = feature_names\n",
    "\n",
    "# Store the feature_importances_ from rf in df_feature_importance as \"Importance\"\n",
    "df_feature_importance['Importance'] = rfc.feature_importances_\n",
    "\n",
    "# Display df_feature_importance sorted by Importance descending\n",
    "df_feature_importance.sort_values(by= 'Importance', ascending= False)"
   ]
  },
  {
   "cell_type": "code",
   "execution_count": 26,
   "metadata": {},
   "outputs": [
    {
     "data": {
      "text/plain": [
       "array(['RequestedAmount_log_scaled', 'Age_scaled'], dtype=object)"
      ]
     },
     "execution_count": 26,
     "metadata": {},
     "output_type": "execute_result"
    }
   ],
   "source": [
    "# 24. (3pts) Feature Selection with SelectFromModel\n",
    "\n",
    "# Import SelectFromModel from sklearn\n",
    "from sklearn.feature_selection import SelectFromModel\n",
    "\n",
    "# Instantiate a SelectFromModel transformer \n",
    "#   with rfc as the estimator and prefit=True (all other arguments default) \n",
    "#   recall that by default, only features with importances greater than the mean are returned\n",
    "sfm = SelectFromModel(rfc, prefit=True)\n",
    "\n",
    "# Display the selected features using feature_names and sfm.get_support()\n",
    "# The should be the top 2 features listed in the previous cell\n",
    "feature_names[sfm.get_support()]"
   ]
  },
  {
   "cell_type": "code",
   "execution_count": 27,
   "metadata": {},
   "outputs": [
    {
     "data": {
      "text/plain": [
       "(596, 2)"
      ]
     },
     "execution_count": 27,
     "metadata": {},
     "output_type": "execute_result"
    }
   ],
   "source": [
    "# 25. (2pts) Transform Data Using Selected Features\n",
    "\n",
    "# Create a new dataset using only the features selected in the previous step.\n",
    "# Use sfm to transform X_train and store as X_train_fs\n",
    "X_train_fs = sfm.transform(X_train)\n",
    "\n",
    "# Use sfm to transform X_test and store as X_test_fs\n",
    "X_test_fs = sfm.transform(X_test)\n",
    "\n",
    "# Print the shape of X_train_fs (should be 596 rows, 2 columns).\n",
    "X_train_fs.shape"
   ]
  },
  {
   "cell_type": "code",
   "execution_count": 28,
   "metadata": {},
   "outputs": [
    {
     "name": "stdout",
     "output_type": "stream",
     "text": [
      "training accuracy: 0.77\n",
      "test accuracy    : 0.73\n"
     ]
    }
   ],
   "source": [
    "# 26. (2pts) Train and Evaluate Model On Selected Features\n",
    "\n",
    "# Instantiate a new RandomForestClassifier\n",
    "#   with n_estimators=50, max_depth=5 and n_jobs=-1\n",
    "# Store in rfc_fs\n",
    "rfc_fs = RandomForestClassifier(n_estimators= 50, max_depth= 5, n_jobs= -1)\n",
    "\n",
    "# Train the rfc_fs model on X_train_fs and y_train\n",
    "rfc_fs.fit(X_train_fs, y_train)\n",
    "\n",
    "# Print the accuracy achieved by rfc_fs on both \n",
    "#   the training (X_train_fs,y_train) and test set (X_test_fs,y_test) with precision of 2 decimal places\n",
    "print(f'training accuracy: {rfc_fs.score(X_train_fs, y_train):.2f}')\n",
    "print(f'test accuracy    : {rfc_fs.score(X_test_fs, y_test):.2f}')"
   ]
  },
  {
   "cell_type": "markdown",
   "metadata": {},
   "source": [
    "## Part 3: Feature Extraction"
   ]
  },
  {
   "cell_type": "code",
   "execution_count": 29,
   "metadata": {},
   "outputs": [
    {
     "data": {
      "text/plain": [
       "array([0.29319249, 0.24095817, 0.09276176])"
      ]
     },
     "execution_count": 29,
     "metadata": {},
     "output_type": "execute_result"
    }
   ],
   "source": [
    "# 27. (2pts) Reduce Dataset to 2D Using PCA\n",
    "\n",
    "# Import PCA from sklearn\n",
    "from sklearn.decomposition import PCA\n",
    "\n",
    "# Instantiate a pca object that will result in 3 components being returned and random_state=123\n",
    "# Store as 'pca'.\n",
    "pca = PCA(n_components=3, random_state=123)\n",
    "\n",
    "# Fit and transform the full training set (X_train) to 3d using pca\n",
    "# Store in X_train_pca\n",
    "X_train_pca = pca.fit_transform(X_train)\n",
    "\n",
    "# Transform the full test set (X_test) to 3d using pca\n",
    "# Store in X_test_pca\n",
    "X_test_pca = pca.transform(X_test)\n",
    "\n",
    "# Print the proportion of variance explained by each component \n",
    "pca.explained_variance_ratio_"
   ]
  },
  {
   "cell_type": "code",
   "execution_count": 30,
   "metadata": {},
   "outputs": [
    {
     "data": {
      "text/plain": [
       "<AxesSubplot:>"
      ]
     },
     "execution_count": 30,
     "metadata": {},
     "output_type": "execute_result"
    },
    {
     "data": {
      "image/png": "[encoded data removed]",
      "text/plain": [
       "<Figure size 432x288 with 1 Axes>"
      ]
     },
     "metadata": {
      "needs_background": "light"
     },
     "output_type": "display_data"
    }
   ],
   "source": [
    "# 28. (1pts) Plot the Dimensions of the PCA Transformation\n",
    "\n",
    "# Use sns.scatterplot to plot the PCA transformed training set\n",
    "#   with the first column on the x-axis and the second column \n",
    "#   colored by the target y_train (using the hue parameter)\n",
    "sns.scatterplot(x=X_train_pca[:,0], y=X_train_pca[:,1], hue= y_train)\n",
    "\n",
    "# Note that the data categories are still very mixed.\n",
    "# Our models will have a difficult time with the data as is.\n",
    "# Additional features and feature engineering would be needed for this task."
   ]
  },
  {
   "cell_type": "code",
   "execution_count": null,
   "metadata": {},
   "outputs": [],
   "source": []
  }
 ],
 "metadata": {
  "kernelspec": {
   "display_name": "eods-f20",
   "language": "python",
   "name": "eods-f20"
  },
  "language_info": {
   "codemirror_mode": {
    "name": "ipython",
    "version": 3
   },
   "file_extension": ".py",
   "mimetype": "text/x-python",
   "name": "python",
   "nbconvert_exporter": "python",
   "pygments_lexer": "ipython3",
   "version": "3.8.5"
  }
 },
 "nbformat": 4,
 "nbformat_minor": 2
}
